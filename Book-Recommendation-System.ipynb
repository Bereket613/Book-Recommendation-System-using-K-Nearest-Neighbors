{
  "cells": [
    {
      "cell_type": "code",
      "execution_count": 7,
      "metadata": {
        "id": "Y1onB6kUvo4Z"
      },
      "outputs": [],
      "source": [
        "# import libraries (you may add additional imports but you may not have to)\n",
        "import numpy as np\n",
        "import pandas as pd\n",
        "from scipy.sparse import csr_matrix\n",
        "from sklearn.neighbors import NearestNeighbors"
      ]
    },
    {
      "cell_type": "code",
      "execution_count": null,
      "metadata": {
        "id": "iAQGqqO_vo4d",
        "outputId": "f95cd257-97b0-4a73-845c-d96328d4eff8",
        "colab": {
          "base_uri": "https://localhost:8080/"
        }
      },
      "outputs": [
        {
          "metadata": {
            "tags": null
          },
          "name": "stdout",
          "output_type": "stream",
          "text": [
            "--2025-03-26 18:30:55--  https://cdn.freecodecamp.org/project-data/books/book-crossings.zip\n",
            "Resolving cdn.freecodecamp.org (cdn.freecodecamp.org)... 104.26.2.33, 104.26.3.33, 172.67.70.149, ...\n",
            "Connecting to cdn.freecodecamp.org (cdn.freecodecamp.org)|104.26.2.33|:443... connected.\n",
            "HTTP request sent, awaiting response... 200 OK\n",
            "Length: 26085508 (25M) [application/zip]\n",
            "Saving to: ‘book-crossings.zip.1’\n",
            "\n",
            "book-crossings.zip. 100%[===================>]  24.88M  --.-KB/s    in 0.1s    \n",
            "\n",
            "2025-03-26 18:30:55 (184 MB/s) - ‘book-crossings.zip.1’ saved [26085508/26085508]\n",
            "\n",
            "Archive:  book-crossings.zip\n",
            "replace BX-Book-Ratings.csv? [y]es, [n]o, [A]ll, [N]one, [r]ename: "
          ]
        }
      ],
      "source": [
        "# Download dataset\n",
        "!wget https://cdn.freecodecamp.org/project-data/books/book-crossings.zip\n",
        "!unzip book-crossings.zip\n",
        "\n",
        "# Load dataset\n",
        "books_filename = 'BX-Books.csv'\n",
        "ratings_filename = 'BX-Book-Ratings.csv'"
      ]
    },
    {
      "cell_type": "code",
      "execution_count": null,
      "metadata": {
        "id": "NClILWOiEd6Q"
      },
      "outputs": [],
      "source": [
        "df_books = pd.read_csv(\n",
        "    books_filename,\n",
        "    encoding=\"ISO-8859-1\",\n",
        "    sep=\";\",\n",
        "    header=0,\n",
        "    names=['isbn', 'title', 'author'],\n",
        "    usecols=['isbn', 'title', 'author'],\n",
        "    dtype={'isbn': 'str', 'title': 'str', 'author': 'str'})\n",
        "\n",
        "df_ratings = pd.read_csv(\n",
        "    ratings_filename,\n",
        "    encoding=\"ISO-8859-1\",\n",
        "    sep=\";\",\n",
        "    header=0,\n",
        "    names=['user', 'isbn', 'rating'],\n",
        "    usecols=['user', 'isbn', 'rating'],\n",
        "    dtype={'user': 'int32', 'isbn': 'str', 'rating': 'float32'})\n"
      ]
    },
    {
      "cell_type": "code",
      "execution_count": 4,
      "metadata": {
        "id": "xAcXjkCFCh0A"
      },
      "outputs": [],
      "source": [
        "# Data Cleaning: Remove books with <100 ratings and users with <200 ratings\n",
        "ratings = df_ratings[df_ratings.isbn.isin(df_books.isbn)]\n",
        "\n",
        "book_count = ratings.groupby('isbn')['rating'].count()\n",
        "ratings = ratings[ratings.isbn.isin(book_count[book_count >= 100].index)]\n",
        "\n",
        "user_count = ratings.groupby('user')['rating'].count()\n",
        "ratings = ratings[ratings.user.isin(user_count[user_count >= 200].index)]\n",
        "# Create book-user matrix\n",
        "book_rating = ratings.pivot(index='isbn', columns='user', values='rating').fillna(0)\n",
        "book_rating_matrix = csr_matrix(book_rating.values)"
      ]
    },
    {
      "cell_type": "code",
      "execution_count": 5,
      "metadata": {
        "id": "f5ZUd-L1SQz7"
      },
      "outputs": [],
      "source": [
        "# Train KNN Model\n",
        "model = NearestNeighbors(metric='cosine', algorithm='brute')\n",
        "model.fit(book_rating_matrix)\n",
        "\n",
        "# Function to return recommended books - this will be tested\n",
        "def get_recommends(book=\"\"):\n",
        "    # Find the ISBN of the given book title\n",
        "    book_row = df_books[df_books['title'] == book]\n",
        "    if book_row.empty:\n",
        "        print(\"The book is not in the database.\")\n",
        "        return\n",
        "\n",
        "    book_isbn = book_row.iloc[0]['isbn']\n",
        "\n",
        "    # Ensure the book exists in the pivot table\n",
        "    if book_isbn not in book_rating.index:\n",
        "        print(\"The book does not have enough ratings.\")\n",
        "        return\n",
        "\n",
        "    book_idx = book_rating.index.get_loc(book_isbn)\n",
        "\n",
        "    # Find similar books using KNN\n",
        "    distances, indices = model.kneighbors(book_rating.iloc[book_idx, :].values.reshape(1, -1), n_neighbors=6)\n",
        "\n",
        "    recommended_books = [book, []]\n",
        "    for i in range(1, len(distances.flatten())):\n",
        "        rec_isbn = book_rating.index[indices.flatten()[i]]\n",
        "        rec_title = df_books[df_books.isbn == rec_isbn]['title'].values[0]\n",
        "        recommended_books[1].append([rec_title, distances.flatten()[i]])\n",
        "\n",
        "    return recommended_books\n",
        "\n",
        "# Test the function\n",
        "print(get_recommends(\"The Queen of the Damned (Vampire Chronicles (Paperback))\"))\n"
      ]
    },
    {
      "cell_type": "code",
      "execution_count": 6,
      "metadata": {
        "id": "jd2SLCh8oxMh"
      },
      "outputs": [],
      "source": []
    }
  ],
  "metadata": {
    "colab": {
      "provenance": [],
      "toc_visible": true
    },
    "kernelspec": {
      "display_name": "Python 3",
      "language": "python",
      "name": "python3"
    },
    "language_info": {
      "codemirror_mode": {
        "name": "ipython",
        "version": 3
      },
      "file_extension": ".py",
      "mimetype": "text/x-python",
      "name": "python",
      "nbconvert_exporter": "python",
      "pygments_lexer": "ipython3",
      "version": "3.6.5"
    }
  },
  "nbformat": 4,
  "nbformat_minor": 0
}